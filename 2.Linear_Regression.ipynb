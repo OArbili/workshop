{
 "cells": [
  {
   "cell_type": "code",
   "execution_count": 7,
   "id": "f3bf88ae-1a7a-468c-ab20-6c5497152c73",
   "metadata": {},
   "outputs": [],
   "source": [
    "import numpy as np\n",
    "import pandas as pd\n",
    "from sklearn.linear_model import LinearRegression\n",
    "\n",
    "x = pd.Series([30, 45, 65, 80, 97, 60, 20, 13, 19])\n",
    "y = pd.Series([150, 123, 150, 178, 186, 168, 87, 60, 92])\n",
    "\n",
    "X = x.values.reshape(-1, 1)"
   ]
  },
  {
   "cell_type": "code",
   "execution_count": 8,
   "id": "e5075542-2937-4b87-9401-9f3c029b866a",
   "metadata": {},
   "outputs": [
    {
     "name": "stdout",
     "output_type": "stream",
     "text": [
      "Predictions: [135.81567235 162.80714962 189.79862689]\n"
     ]
    }
   ],
   "source": [
    "model = LinearRegression()\n",
    "model.fit(X, y)\n",
    "coefficients = model.coef_\n",
    "intercept = model.intercept_\n",
    "\n",
    "new_x = np.array([50, 70, 90]).reshape(-1, 1)\n",
    "predictions = model.predict(new_x)\n",
    "\n",
    "print(\"Predictions:\", predictions)"
   ]
  },
  {
   "cell_type": "code",
   "execution_count": null,
   "id": "19765ffe-7714-48d9-bb4b-57f1eb29c9bd",
   "metadata": {},
   "outputs": [],
   "source": [
    "# print(\"Coefficients:\", coefficients)\n",
    "# print(\"Intercept:\", intercept)"
   ]
  }
 ],
 "metadata": {
  "kernelspec": {
   "display_name": "Python 3 (bgu)",
   "language": "python",
   "name": "bgu"
  },
  "language_info": {
   "codemirror_mode": {
    "name": "ipython",
    "version": 3
   },
   "file_extension": ".py",
   "mimetype": "text/x-python",
   "name": "python",
   "nbconvert_exporter": "python",
   "pygments_lexer": "ipython3",
   "version": "3.10.4"
  }
 },
 "nbformat": 4,
 "nbformat_minor": 5
}
